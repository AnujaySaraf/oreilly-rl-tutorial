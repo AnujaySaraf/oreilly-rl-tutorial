{
 "cells": [
  {
   "cell_type": "markdown",
   "metadata": {},
   "source": [
    "# Exercise 2: Contextual Bandit"
   ]
  },
  {
   "cell_type": "code",
   "execution_count": null,
   "metadata": {
    "collapsed": true
   },
   "outputs": [],
   "source": [
    "from __future__ import division\n",
    "\n",
    "import json\n",
    "import numpy as np\n",
    "import os\n",
    "import tensorflow as tf\n",
    "\n",
    "from unityagents import UnityEnvironment"
   ]
  },
  {
   "cell_type": "markdown",
   "metadata": {},
   "source": [
    "### Hyperparameters"
   ]
  },
  {
   "cell_type": "code",
   "execution_count": null,
   "metadata": {
    "collapsed": true
   },
   "outputs": [],
   "source": [
    "total_episodes = 4000 # Total episodes to run environment.\n",
    "summary_path = './summaries/c-bandit' # Path to save summary statistics.\n",
    "learning_rate = 5e-3 # Agent's learning rate."
   ]
  },
  {
   "cell_type": "markdown",
   "metadata": {},
   "source": [
    "### Load the Unity Environment"
   ]
  },
  {
   "cell_type": "code",
   "execution_count": null,
   "metadata": {
    "collapsed": true
   },
   "outputs": [],
   "source": [
    "env = UnityEnvironment(\"./envs/Contextual\")\n",
    "default_brain = env.brain_names[0]"
   ]
  },
  {
   "cell_type": "markdown",
   "metadata": {},
   "source": [
    "Select \"Contextual Bandit\" and press \"Start Learning.\""
   ]
  },
  {
   "cell_type": "markdown",
   "metadata": {},
   "source": [
    "### Examine the state space"
   ]
  },
  {
   "cell_type": "code",
   "execution_count": null,
   "metadata": {
    "collapsed": true
   },
   "outputs": [],
   "source": [
    "brain = env.reset()\n",
    "bandit_brain = brain[default_brain]\n",
    "print(bandit_brain.vector_observations)"
   ]
  },
  {
   "cell_type": "markdown",
   "metadata": {},
   "source": [
    "State (s) is an integer which corresponds to a discrete state."
   ]
  },
  {
   "cell_type": "markdown",
   "metadata": {},
   "source": [
    "### The Contexual Agent"
   ]
  },
  {
   "cell_type": "code",
   "execution_count": null,
   "metadata": {
    "collapsed": true
   },
   "outputs": [],
   "source": [
    "class Agent(object):\n",
    "    def __init__(self, learning_rate, num_states, num_actions):\n",
    "        # These two lines established the feed-forward part of the network. \n",
    "        self.state_input = tf.placeholder(shape=[1],dtype=tf.int32)\n",
    "        state = tf.contrib.layers.one_hot_encoding(self.state_input, num_states)\n",
    "        self.value_estimates = tf.layers.dense(state, num_actions, \n",
    "                                                   activation=None, \n",
    "                                                   use_bias=None,\n",
    "                                                   kernel_initializer=tf.ones_initializer())\n",
    "        self.value_estimates = tf.reshape(self.value_estimates,[-1])\n",
    "        self.action_probabilities = tf.nn.softmax(self.value_estimates / 0.5)\n",
    "\n",
    "        # These lines establish the training proceedure. \n",
    "        # We feed the reward and chosen action into the network\n",
    "        # to compute the loss, and use it to update the network.\n",
    "        self.reward_holder = tf.placeholder(shape=[1],dtype=tf.float32)\n",
    "        self.action_holder = tf.placeholder(shape=[1],dtype=tf.int32)\n",
    "\n",
    "        self.responsible_value = tf.slice(self.value_estimates,self.action_holder,[1])\n",
    "        \n",
    "        # We take the difference between the emperical reward and the value estimate\n",
    "        self.loss = tf.squared_difference(self.responsible_value, self.reward_holder)\n",
    "        optimizer = tf.train.AdamOptimizer(learning_rate=learning_rate)\n",
    "        self.update = optimizer.minimize(self.loss)"
   ]
  },
  {
   "cell_type": "markdown",
   "metadata": {},
   "source": [
    "### Training the Agent"
   ]
  },
  {
   "cell_type": "code",
   "execution_count": null,
   "metadata": {
    "collapsed": true,
    "scrolled": true
   },
   "outputs": [],
   "source": [
    "rewards = []\n",
    "losses = []\n",
    "space_size = env.brains[default_brain].vector_observation_space_size\n",
    "action_size = env.brains[default_brain].vector_action_space_size\n",
    "\n",
    "if not os.path.exists(summary_path):\n",
    "    os.makedirs(summary_path)\n",
    "\n",
    "# Create our tensorflow agent\n",
    "tf.reset_default_graph()\n",
    "agent = Agent(learning_rate, space_size, action_size)\n",
    "init = tf.global_variables_initializer()\n",
    "\n",
    "with tf.Session() as sess:\n",
    "    sess.run(init)\n",
    "    summary_writer = tf.summary.FileWriter(summary_path)\n",
    "    i = 0\n",
    "    brains = env.reset()\n",
    "    state = brains[default_brain].vector_observations[0]\n",
    "    while i < total_episodes:\n",
    "        # Start a new episode\n",
    "        if i < total_episodes / 2:\n",
    "            # Pick action according to Boltzmann distribution.\n",
    "            actions, values = sess.run([agent.action_probabilities, agent.value_estimates],\n",
    "                                       feed_dict={agent.state_input: state})\n",
    "            a = np.random.choice(actions,p=actions)\n",
    "            action = np.argmax(actions == a)\n",
    "        else:\n",
    "            # Pick action greedily according to value estimates\n",
    "            actions, values = sess.run([agent.action_probabilities, agent.value_estimates], \n",
    "                                       feed_dict={agent.state_input: state})\n",
    "            action = np.argmax(actions)\n",
    "\n",
    "        #Get our reward from picking one of the chests.\n",
    "        brains = env.step(vector_action = action, text_action = json.dumps(values.tolist()))\n",
    "        bandit_brain = brains[default_brain]\n",
    "        reward = bandit_brain.rewards[0]\n",
    "        state = bandit_brain.vector_observations[0]\n",
    "        rewards.append(reward)\n",
    "        \n",
    "        #Update the agent.\n",
    "        _, v_loss = sess.run([agent.update, agent.loss], feed_dict={agent.reward_holder:[reward], \n",
    "                                              agent.action_holder:[action],\n",
    "                                              agent.state_input: state})\n",
    "        losses.append(v_loss)\n",
    "        \n",
    "        #Update our running tally of scores.\n",
    "        if i % 50 == 0 and i > 0:\n",
    "            summary = tf.Summary()\n",
    "            summary.value.add(tag='Info/Reward', simple_value=float(np.mean(rewards[-50:])))\n",
    "            summary.value.add(tag='Info/Value Loss', simple_value=float(np.mean(losses[-50:])))\n",
    "            summary_writer.add_summary(summary, i)\n",
    "            summary_writer.flush()\n",
    "            print(\"Trial: {}, Mean Reward: {}\".format(str(i), str(round(np.mean(rewards[-50:]), 3))))\n",
    "        i+=1\n",
    "env.close()"
   ]
  },
  {
   "cell_type": "code",
   "execution_count": null,
   "metadata": {
    "collapsed": true
   },
   "outputs": [],
   "source": [
    "env.close()"
   ]
  }
 ],
 "metadata": {
  "anaconda-cloud": {},
  "kernelspec": {
   "display_name": "Python 3",
   "language": "python",
   "name": "python3"
  },
  "language_info": {
   "codemirror_mode": {
    "name": "ipython",
    "version": 3
   },
   "file_extension": ".py",
   "mimetype": "text/x-python",
   "name": "python",
   "nbconvert_exporter": "python",
   "pygments_lexer": "ipython3",
   "version": "3.6.2"
  }
 },
 "nbformat": 4,
 "nbformat_minor": 2
}
