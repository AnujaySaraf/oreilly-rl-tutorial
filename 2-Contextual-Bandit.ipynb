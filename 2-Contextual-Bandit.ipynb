{
 "cells": [
  {
   "cell_type": "markdown",
   "metadata": {},
   "source": [
    "# Exercise 2: Contextual Bandit"
   ]
  },
  {
   "cell_type": "code",
   "execution_count": null,
   "metadata": {
    "collapsed": true
   },
   "outputs": [],
   "source": [
    "import json\n",
    "import numpy as np\n",
    "import os\n",
    "import tensorflow as tf\n",
    "\n",
    "from unityagents import UnityEnvironment"
   ]
  },
  {
   "cell_type": "markdown",
   "metadata": {},
   "source": [
    "### Hyperparameters"
   ]
  },
  {
   "cell_type": "code",
   "execution_count": null,
   "metadata": {
    "collapsed": true
   },
   "outputs": [],
   "source": [
    "total_episodes = 4000 # Total episodes to run environment.\n",
    "summary_freq = 50 # How often to display information about training.\n",
    "update_frequency = 20 # How many episodes before updating model.\n",
    "summary_path = './summaries/c-bandit' # Path to save summary statistics.\n",
    "learning_rate = 1e-2 # Agent's learning rate."
   ]
  },
  {
   "cell_type": "markdown",
   "metadata": {},
   "source": [
    "### Load the Unity Environment"
   ]
  },
  {
   "cell_type": "code",
   "execution_count": null,
   "metadata": {
    "collapsed": true
   },
   "outputs": [],
   "source": [
    "env = UnityEnvironment(\"./envs/ContextualBandit\", worker_id=1)\n",
    "default_brain = env.brain_names[0]"
   ]
  },
  {
   "cell_type": "markdown",
   "metadata": {},
   "source": [
    "### Examine the state space"
   ]
  },
  {
   "cell_type": "code",
   "execution_count": null,
   "metadata": {
    "collapsed": true
   },
   "outputs": [],
   "source": [
    "brains = env.reset()\n",
    "bandit_brain = brains[default_brain]\n",
    "print(bandit_brain.vector_observations)"
   ]
  },
  {
   "cell_type": "markdown",
   "metadata": {},
   "source": [
    "State (s) is an integer which corresponds to a discrete state."
   ]
  },
  {
   "cell_type": "markdown",
   "metadata": {},
   "source": [
    "### The Contexual Bandit Agent"
   ]
  },
  {
   "cell_type": "code",
   "execution_count": null,
   "metadata": {
    "collapsed": true
   },
   "outputs": [],
   "source": [
    "class Agent(object):\n",
    "    def __init__(self, learning_rate, num_states, num_actions):\n",
    "        # These lines established the feed-forward part of the network.\n",
    "        \n",
    "        # The network takes an integer and uses it to index a row of the matrix.\n",
    "        self.state_input = tf.placeholder(shape=[None],dtype=tf.int32)\n",
    "        state = tf.one_hot(self.state_input, num_states)\n",
    "        self.value_estimates = tf.layers.dense(state, num_actions, \n",
    "                                               activation=None, \n",
    "                                               use_bias=None,\n",
    "                                               kernel_initializer=tf.ones_initializer())\n",
    "        \n",
    "        # Actions probabilities are computed as softmax over relevant value estimates. \n",
    "        self.policy = tf.nn.softmax(self.value_estimates)\n",
    "        self.sampled_action = tf.multinomial(self.policy, 1)\n",
    "\n",
    "        # These lines establish the training proceedure. \n",
    "        # We feed the reward and chosen action into the network\n",
    "        # to compute the loss, and use it to update the network.\n",
    "        self.reward_holder = tf.placeholder(shape=[None],dtype=tf.float32)\n",
    "        self.action_holder = tf.placeholder(shape=[None],dtype=tf.int32)\n",
    "        self.action = tf.one_hot(self.action_holder, num_actions)\n",
    "        \n",
    "        # We select only the portion of the estimates which corresponds to the taken action\n",
    "        self.responsible_value = tf.reduce_sum(tf.multiply(self.value_estimates, self.action), axis=1)\n",
    "        \n",
    "        # We take the difference between the emperical reward and the value estimate\n",
    "        self.loss = tf.reduce_mean(tf.squared_difference(self.responsible_value, self.reward_holder))\n",
    "        optimizer = tf.train.AdamOptimizer(learning_rate=learning_rate)\n",
    "        self.update = optimizer.minimize(self.loss)"
   ]
  },
  {
   "cell_type": "markdown",
   "metadata": {},
   "source": [
    "### Training the Agent"
   ]
  },
  {
   "cell_type": "code",
   "execution_count": null,
   "metadata": {
    "collapsed": true,
    "scrolled": true
   },
   "outputs": [],
   "source": [
    "if not os.path.exists(summary_path):\n",
    "    os.makedirs(summary_path)\n",
    "\n",
    "# Create our tensorflow agent\n",
    "tf.reset_default_graph()\n",
    "space_size = env.brains[default_brain].vector_observation_space_size\n",
    "action_size = env.brains[default_brain].vector_action_space_size\n",
    "agent = Agent(learning_rate, space_size, action_size)\n",
    "\n",
    "# Start an interactive TensorFlow session.\n",
    "sess = tf.InteractiveSession()\n",
    "init = tf.global_variables_initializer()\n",
    "sess.run(init)\n",
    "summary_writer = tf.summary.FileWriter(summary_path)\n",
    "\n",
    "# Create variables which will be used throughout training.\n",
    "i = 0\n",
    "rewards = []\n",
    "losses = []\n",
    "brains = env.reset()\n",
    "state = brains[default_brain].vector_observations[0]\n",
    "\n",
    "# Start training loop.\n",
    "ep_history = []\n",
    "for i in range(total_episodes):\n",
    "    # Start a new episode\n",
    "    \n",
    "    # Evaluate current state value estimates.\n",
    "    values = sess.run(agent.value_estimates, \n",
    "          feed_dict={agent.state_input: state})\n",
    "\n",
    "    if i < total_episodes / 2:\n",
    "        # Pick actions randomly - explore.\n",
    "        action = np.random.randint(0, action_size)\n",
    "    else:\n",
    "        # Pick action greedily according to value estimates - exploit.\n",
    "        action = np.argmax(values)\n",
    "\n",
    "    # Act in the environment.\n",
    "    brains = env.step(vector_action = action, text_action = json.dumps(np.reshape(values, [-1]).tolist()))\n",
    "    \n",
    "    # Collect the reward for picking one of the actions.\n",
    "    bandit_brain = brains[default_brain]\n",
    "    reward = bandit_brain.rewards[0]\n",
    "    rewards.append(reward)\n",
    "    ep_history.append([state, action, reward])\n",
    "    \n",
    "    state = bandit_brain.vector_observations[0]\n",
    "\n",
    "    # Update the agent.\n",
    "    if i % update_frequency == 0 and i != 0:\n",
    "        ep_history = np.array(ep_history)\n",
    "        _, v_loss = sess.run([agent.update, agent.loss], \n",
    "                             feed_dict={agent.reward_holder:ep_history[:,2], \n",
    "                                        agent.action_holder:ep_history[:,1],\n",
    "                                        agent.state_input: ep_history[:,0]})\n",
    "        losses.append(v_loss)\n",
    "        ep_history = []\n",
    "\n",
    "    # Update our running tally of scores and save information to Tensorboard.\n",
    "    if i % summary_freq == 0 and i > 0:\n",
    "        summary = tf.Summary()\n",
    "        summary.value.add(tag='Info/Mean Reward', simple_value=float(np.mean(rewards[-summary_freq:])))\n",
    "        summary.value.add(tag='Info/Value Loss', simple_value=float(np.mean(losses[-summary_freq//update_frequency:])))\n",
    "        summary_writer.add_summary(summary, i)\n",
    "        summary_writer.flush()\n",
    "        print(\"Trial: {}, Mean Reward: {}\".format(str(i), str(round(np.mean(rewards[-summary_freq:]), 3))))\n",
    "env.close()"
   ]
  },
  {
   "cell_type": "code",
   "execution_count": null,
   "metadata": {
    "collapsed": true
   },
   "outputs": [],
   "source": [
    "env.close()"
   ]
  }
 ],
 "metadata": {
  "anaconda-cloud": {},
  "kernelspec": {
   "display_name": "Python 3",
   "language": "python",
   "name": "python3"
  },
  "language_info": {
   "codemirror_mode": {
    "name": "ipython",
    "version": 3
   },
   "file_extension": ".py",
   "mimetype": "text/x-python",
   "name": "python",
   "nbconvert_exporter": "python",
   "pygments_lexer": "ipython3",
   "version": "3.6.2"
  }
 },
 "nbformat": 4,
 "nbformat_minor": 2
}
