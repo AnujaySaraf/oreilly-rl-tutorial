{
 "cells": [
  {
   "cell_type": "markdown",
   "metadata": {},
   "source": [
    "# Exercise 1: Multi-Armed Bandit"
   ]
  },
  {
   "cell_type": "code",
   "execution_count": 1,
   "metadata": {
    "collapsed": true
   },
   "outputs": [
    {
     "name": "stderr",
     "output_type": "stream",
     "text": [
      "/Library/Frameworks/Python.framework/Versions/3.6/lib/python3.6/importlib/_bootstrap.py:205: RuntimeWarning: compiletime version 3.5 of module 'tensorflow.python.framework.fast_tensor_util' does not match runtime version 3.6\n",
      "  return f(*args, **kwds)\n"
     ]
    }
   ],
   "source": [
    "from __future__ import division\n",
    "\n",
    "import numpy as np\n",
    "import os\n",
    "import tensorflow as tf\n",
    "import json\n",
    "\n",
    "from unityagents import UnityEnvironment"
   ]
  },
  {
   "cell_type": "markdown",
   "metadata": {},
   "source": [
    "### Hyperparameters"
   ]
  },
  {
   "cell_type": "code",
   "execution_count": 2,
   "metadata": {
    "collapsed": true
   },
   "outputs": [],
   "source": [
    "total_episodes = 4000 # Total episodes to run environment.\n",
    "summary_path = './summaries/bandit-1' # Path to save summary statistics.\n",
    "learning_rate = 1e-2 # Agent's learning rate."
   ]
  },
  {
   "cell_type": "markdown",
   "metadata": {},
   "source": [
    "### Load the Unity Environment"
   ]
  },
  {
   "cell_type": "code",
   "execution_count": 3,
   "metadata": {
    "collapsed": true
   },
   "outputs": [
    {
     "name": "stderr",
     "output_type": "stream",
     "text": [
      "INFO:unityagents:\n",
      "'Academy' started successfully!\n",
      "Unity Academy name: Academy\n",
      "        Number of Brains: 1\n",
      "        Number of External Brains : 1\n",
      "        Lesson number : 0\n",
      "        Reset Parameters :\n",
      "\t\t\n",
      "Unity brain name: BanditBrain\n",
      "        Number of Visual Observations (per agent): 0\n",
      "        Vector Observation space type: discrete\n",
      "        Vector Observation space size (per agent): 1\n",
      "        Number of stacked Vector Observation: 1\n",
      "        Vector Action space type: discrete\n",
      "        Vector Action space size (per agent): 3\n",
      "        Vector Action descriptions: , , \n"
     ]
    }
   ],
   "source": [
    "env = UnityEnvironment(\"./envs/Bandit\")"
   ]
  },
  {
   "cell_type": "markdown",
   "metadata": {},
   "source": [
    "### Examine the state space"
   ]
  },
  {
   "cell_type": "code",
   "execution_count": 4,
   "metadata": {
    "collapsed": true
   },
   "outputs": [
    {
     "name": "stdout",
     "output_type": "stream",
     "text": [
      "[[0.]]\n"
     ]
    }
   ],
   "source": [
    "brain = env.reset()\n",
    "bandit_brain = brain[\"BanditBrain\"]\n",
    "print(bandit_brain.vector_observations)"
   ]
  },
  {
   "cell_type": "markdown",
   "metadata": {},
   "source": [
    "The environment is stateless."
   ]
  },
  {
   "cell_type": "markdown",
   "metadata": {},
   "source": [
    "### The Stateless Agent"
   ]
  },
  {
   "cell_type": "code",
   "execution_count": 5,
   "metadata": {
    "collapsed": true
   },
   "outputs": [],
   "source": [
    "class Agent(object):\n",
    "    def __init__(self, learning_rate, num_actions):\n",
    "        # These two lines established the feed-forward part of the network. \n",
    "        self.value_estimates = tf.Variable(tf.ones([num_actions]))\n",
    "        self.action_probabilities = tf.nn.softmax(self.value_estimates / 0.5)\n",
    "\n",
    "        # These lines establish the training proceedure. \n",
    "        # We feed the reward and chosen action into the network\n",
    "        # to compute the loss, and use it to update the network.\n",
    "        self.reward_holder = tf.placeholder(shape=[1],dtype=tf.float32)\n",
    "        self.action_holder = tf.placeholder(shape=[1],dtype=tf.int32)\n",
    "\n",
    "        self.responsible_value = tf.slice(self.value_estimates,self.action_holder,[1])\n",
    "        \n",
    "        # We take the difference between the emperical reward and the value estimate\n",
    "        self.loss = tf.squared_difference(self.responsible_value, self.reward_holder)\n",
    "        optimizer = tf.train.AdamOptimizer(learning_rate=learning_rate)\n",
    "        self.update = optimizer.minimize(self.loss)"
   ]
  },
  {
   "cell_type": "markdown",
   "metadata": {},
   "source": [
    "### Training the Agent"
   ]
  },
  {
   "cell_type": "code",
   "execution_count": 6,
   "metadata": {
    "collapsed": true,
    "scrolled": true
   },
   "outputs": [
    {
     "name": "stdout",
     "output_type": "stream",
     "text": [
      "Mean Reward: -0.4\n",
      "Mean Reward: -0.2\n",
      "Mean Reward: -0.36\n",
      "Mean Reward: -0.2\n",
      "Mean Reward: -0.04\n",
      "Mean Reward: -0.4\n",
      "Mean Reward: -0.16\n",
      "Mean Reward: -0.08\n",
      "Mean Reward: 0.08\n",
      "Mean Reward: 0.48\n",
      "Mean Reward: 0.24\n",
      "Mean Reward: 0.32\n",
      "Mean Reward: 0.4\n",
      "Mean Reward: 0.08\n",
      "Mean Reward: 0.08\n",
      "Mean Reward: -0.04\n",
      "Mean Reward: 0.2\n",
      "Mean Reward: 0.12\n",
      "Mean Reward: -0.04\n",
      "Mean Reward: 0.12\n",
      "Mean Reward: 0.32\n",
      "Mean Reward: 0.4\n",
      "Mean Reward: 0.12\n",
      "Mean Reward: -0.04\n",
      "Mean Reward: 0.04\n",
      "Mean Reward: 0.12\n",
      "Mean Reward: 0.04\n",
      "Mean Reward: 0.08\n",
      "Mean Reward: 0.08\n",
      "Mean Reward: -0.08\n",
      "Mean Reward: -0.12\n",
      "Mean Reward: 0.28\n",
      "Mean Reward: 0.04\n",
      "Mean Reward: 0.04\n",
      "Mean Reward: 0.28\n",
      "Mean Reward: 0.04\n",
      "Mean Reward: 0.16\n",
      "Mean Reward: 0.2\n",
      "Mean Reward: 0.04\n",
      "Mean Reward: 0.16\n",
      "Mean Reward: 0.32\n",
      "Mean Reward: 0.52\n",
      "Mean Reward: 0.52\n",
      "Mean Reward: 0.6\n",
      "Mean Reward: 0.64\n",
      "Mean Reward: 0.28\n",
      "Mean Reward: 0.36\n",
      "Mean Reward: 0.44\n",
      "Mean Reward: 0.48\n",
      "Mean Reward: 0.44\n",
      "Mean Reward: 0.6\n",
      "Mean Reward: 0.56\n",
      "Mean Reward: 0.44\n",
      "Mean Reward: 0.28\n",
      "Mean Reward: 0.4\n",
      "Mean Reward: 0.2\n",
      "Mean Reward: 0.8\n",
      "Mean Reward: 0.24\n",
      "Mean Reward: 0.68\n",
      "Mean Reward: 0.28\n",
      "Mean Reward: 0.48\n",
      "Mean Reward: 0.44\n",
      "Mean Reward: 0.36\n",
      "Mean Reward: 0.48\n",
      "Mean Reward: 0.68\n",
      "Mean Reward: 0.32\n",
      "Mean Reward: 0.36\n",
      "Mean Reward: 0.32\n",
      "Mean Reward: 0.16\n",
      "Mean Reward: 0.36\n",
      "Mean Reward: 0.4\n",
      "Mean Reward: 0.56\n",
      "Mean Reward: 0.24\n",
      "Mean Reward: 0.36\n",
      "Mean Reward: 0.24\n",
      "Mean Reward: 0.4\n",
      "Mean Reward: 0.48\n",
      "Mean Reward: 0.32\n",
      "Mean Reward: 0.28\n"
     ]
    }
   ],
   "source": [
    "if not os.path.exists(summary_path):\n",
    "    os.makedirs(summary_path)\n",
    "\n",
    "# Create our tensorflow agent\n",
    "tf.reset_default_graph()\n",
    "agent = Agent(learning_rate, env.brains[\"BanditBrain\"].vector_action_space_size)\n",
    "init = tf.global_variables_initializer()\n",
    "sess = tf.InteractiveSession()\n",
    "sess.run(init)\n",
    "summary_writer = tf.summary.FileWriter(summary_path)\n",
    "\n",
    "i = 0\n",
    "rewards = []\n",
    "losses = []\n",
    "env.reset()\n",
    "\n",
    "while i < total_episodes:\n",
    "    if i < total_episodes / 2:\n",
    "        # Pick action according to Boltzmann distribution.\n",
    "        actions, values = sess.run([agent.action_probabilities, agent.value_estimates])\n",
    "        a = np.random.choice(actions,p=actions)\n",
    "        action = np.argmax(actions == a)\n",
    "    else:\n",
    "        # Pick action greedily\n",
    "        actions, values = sess.run([agent.action_probabilities, agent.value_estimates])\n",
    "        action = np.argmax(actions)\n",
    "\n",
    "    #Get our reward from picking one of the chests.\n",
    "    brains = env.step(vector_action = action, text_action = json.dumps(values.tolist()))\n",
    "    bandit_brain = brains[\"BanditBrain\"]\n",
    "    reward = bandit_brain.rewards[0]\n",
    "    rewards.append(reward)\n",
    "\n",
    "    #Update the agent.\n",
    "    _, value_loss = sess.run([agent.update, agent.loss], feed_dict={agent.reward_holder:[reward], \n",
    "                                          agent.action_holder:[action]})\n",
    "\n",
    "    losses.append(value_loss)\n",
    "\n",
    "    #Update our running tally of scores.\n",
    "    if i % 50 == 0 and i > 0:\n",
    "        summary = tf.Summary()\n",
    "        summary.value.add(tag='Info/Reward', simple_value=float(np.mean(rewards[-50:])))\n",
    "        summary.value.add(tag='Info/Value Loss', simple_value=float(np.mean(losses[-50:])))\n",
    "        summary_writer.add_summary(summary, i)\n",
    "        summary_writer.flush()\n",
    "        print(\"Trial: {}, Mean Reward: {}\".format(str(i), str(round(np.mean(rewards[-50:]), 3))))\n",
    "    i += 1\n",
    "env.close()"
   ]
  },
  {
   "cell_type": "code",
   "execution_count": null,
   "metadata": {
    "collapsed": true
   },
   "outputs": [],
   "source": [
    "env.close()"
   ]
  }
 ],
 "metadata": {
  "anaconda-cloud": {},
  "kernelspec": {
   "display_name": "Python 3",
   "language": "python",
   "name": "python3"
  },
  "language_info": {
   "codemirror_mode": {
    "name": "ipython",
    "version": 3
   },
   "file_extension": ".py",
   "mimetype": "text/x-python",
   "name": "python",
   "nbconvert_exporter": "python",
   "pygments_lexer": "ipython3",
   "version": "3.6.2"
  }
 },
 "nbformat": 4,
 "nbformat_minor": 2
}
