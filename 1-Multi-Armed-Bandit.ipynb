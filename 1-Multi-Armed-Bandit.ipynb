{
 "cells": [
  {
   "cell_type": "markdown",
   "metadata": {},
   "source": [
    "# Exercise 1: Multi-Armed Bandit"
   ]
  },
  {
   "cell_type": "code",
   "execution_count": null,
   "metadata": {
    "collapsed": true
   },
   "outputs": [],
   "source": [
    "import json\n",
    "import numpy as np\n",
    "import os\n",
    "import tensorflow as tf\n",
    "\n",
    "from unityagents import UnityEnvironment"
   ]
  },
  {
   "cell_type": "markdown",
   "metadata": {},
   "source": [
    "### Hyperparameters"
   ]
  },
  {
   "cell_type": "code",
   "execution_count": null,
   "metadata": {
    "collapsed": true
   },
   "outputs": [],
   "source": [
    "total_episodes = 4000 # Total episodes to run environment.\n",
    "summary_freq = 50\n",
    "summary_path = './summaries/bandit' # Path to save summary statistics.\n",
    "learning_rate = 5e-3 # Agent's learning rate."
   ]
  },
  {
   "cell_type": "markdown",
   "metadata": {},
   "source": [
    "### Load the Unity Environment"
   ]
  },
  {
   "cell_type": "code",
   "execution_count": null,
   "metadata": {
    "collapsed": true
   },
   "outputs": [],
   "source": [
    "env = UnityEnvironment(\"./envs/Bandit\", worker_id=0)\n",
    "default_brain = env.brain_names[0]"
   ]
  },
  {
   "cell_type": "markdown",
   "metadata": {},
   "source": [
    "### Examine the state space"
   ]
  },
  {
   "cell_type": "code",
   "execution_count": null,
   "metadata": {
    "collapsed": true
   },
   "outputs": [],
   "source": [
    "brain = env.reset()\n",
    "bandit_brain = brain[default_brain]\n",
    "print(bandit_brain.vector_observations)"
   ]
  },
  {
   "cell_type": "markdown",
   "metadata": {},
   "source": [
    "The environment is stateless, so our observation will always be `[0]`."
   ]
  },
  {
   "cell_type": "markdown",
   "metadata": {},
   "source": [
    "### The Multi-Arm Bandit Agent"
   ]
  },
  {
   "cell_type": "code",
   "execution_count": null,
   "metadata": {
    "collapsed": true
   },
   "outputs": [],
   "source": [
    "class Agent(object):\n",
    "    def __init__(self, learning_rate, num_actions):\n",
    "        # The below two lines established the feed-forward part of the network. \n",
    "        \n",
    "        # Our value estimates will be stored as a vector initialized with ones.\n",
    "        self.value_estimates = tf.Variable(tf.ones([num_actions]))\n",
    "        # In order to get probabilities for acting, we use the softmax function.\n",
    "        self.action_probabilities = tf.nn.softmax(self.value_estimates / 0.5)\n",
    "\n",
    "        # These lines establish the training proceedure. \n",
    "        # We feed the reward and chosen action into the network\n",
    "        # to compute the loss, and use it to update the network.\n",
    "        self.reward_holder = tf.placeholder(shape=[1],dtype=tf.float32)\n",
    "        self.action_holder = tf.placeholder(shape=[1],dtype=tf.int32)\n",
    "        self.update_scale = tf.placeholder(shape=[1],dtype=tf.float32)\n",
    "\n",
    "        # We select only the portion of the estimates which corresponds to the taken action\n",
    "        self.responsible_value = tf.slice(self.value_estimates,self.action_holder,[1])\n",
    "        \n",
    "        # We take the difference between the emperical reward and the value estimate\n",
    "        self.loss = tf.squared_difference(self.responsible_value, self.reward_holder)\n",
    "        optimizer = tf.train.AdamOptimizer(learning_rate=learning_rate)\n",
    "        self.update = optimizer.minimize(self.update_scale * self.loss)"
   ]
  },
  {
   "cell_type": "markdown",
   "metadata": {},
   "source": [
    "### Training the Agent"
   ]
  },
  {
   "cell_type": "code",
   "execution_count": null,
   "metadata": {
    "collapsed": true,
    "scrolled": true
   },
   "outputs": [],
   "source": [
    "if not os.path.exists(summary_path):\n",
    "    os.makedirs(summary_path)\n",
    "\n",
    "# Create our tensorflow agent\n",
    "tf.reset_default_graph()\n",
    "agent = Agent(learning_rate, env.brains[default_brain].vector_action_space_size)\n",
    "\n",
    "# Start an interactive TensorFlow session.\n",
    "sess = tf.InteractiveSession()\n",
    "init = tf.global_variables_initializer()\n",
    "sess.run(init)\n",
    "summary_writer = tf.summary.FileWriter(summary_path)\n",
    "\n",
    "# Create variables which will be used throughout training.\n",
    "rewards = []\n",
    "losses = []\n",
    "\n",
    "# Restart Environment.\n",
    "env.reset()\n",
    "\n",
    "# Start training loop.\n",
    "for i in range(total_episodes):\n",
    "    # Pick actions differently depending on how long we have been training.\n",
    "    if i < total_episodes / 2:\n",
    "        # Pick action according to Boltzmann distribution.\n",
    "        actions, values = sess.run([agent.action_probabilities, agent.value_estimates])\n",
    "        a = np.random.choice(actions,p=actions)\n",
    "        action = np.argmax(actions == a)\n",
    "    else:\n",
    "        # Pick action greedily\n",
    "        actions, values = sess.run([agent.action_probabilities, agent.value_estimates])\n",
    "        action = np.argmax(actions)\n",
    "\n",
    "    # Act in the environment.\n",
    "    brains = env.step(vector_action = action, text_action = json.dumps(values.tolist()))\n",
    "    \n",
    "    # Collect the reward for picking one of the actions.\n",
    "    bandit_brain = brains[default_brain]\n",
    "    reward = bandit_brain.rewards[0]\n",
    "    rewards.append(reward)\n",
    "\n",
    "    #Update the agent using the outcome of the action.\n",
    "    _, value_loss = sess.run([agent.update, agent.loss], feed_dict={agent.reward_holder:[reward], \n",
    "                                          agent.action_holder:[action],\n",
    "                                        agent.update_scale:[1.0 - (i/total_episodes)]})\n",
    "\n",
    "    losses.append(value_loss)\n",
    "\n",
    "    #Update our running tally of scores and save information to Tensorboard.\n",
    "    if i % summary_freq == 0 and i > 0:\n",
    "        summary = tf.Summary()\n",
    "        summary.value.add(tag='Info/Reward', simple_value=float(np.mean(rewards[-summary_freq:])))\n",
    "        summary.value.add(tag='Info/Value Loss', simple_value=float(np.mean(losses[-summary_freq:])))\n",
    "        summary_writer.add_summary(summary, i)\n",
    "        summary_writer.flush()\n",
    "        print(\"Trial: {}, Mean Reward: {}\".format(str(i), str(round(np.mean(rewards[-summary_freq:]), 3))))\n",
    "env.close()"
   ]
  },
  {
   "cell_type": "code",
   "execution_count": null,
   "metadata": {
    "collapsed": true
   },
   "outputs": [],
   "source": [
    "env.close()"
   ]
  }
 ],
 "metadata": {
  "anaconda-cloud": {},
  "kernelspec": {
   "display_name": "Python 3",
   "language": "python",
   "name": "python3"
  },
  "language_info": {
   "codemirror_mode": {
    "name": "ipython",
    "version": 3
   },
   "file_extension": ".py",
   "mimetype": "text/x-python",
   "name": "python",
   "nbconvert_exporter": "python",
   "pygments_lexer": "ipython3",
   "version": "3.6.2"
  }
 },
 "nbformat": 4,
 "nbformat_minor": 2
}
