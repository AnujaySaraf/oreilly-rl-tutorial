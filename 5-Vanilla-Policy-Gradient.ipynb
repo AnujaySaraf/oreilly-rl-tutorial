{
 "cells": [
  {
   "cell_type": "markdown",
   "metadata": {},
   "source": [
    "# Exercise 6: Vanilla Policy Gradient (VPG)"
   ]
  },
  {
   "cell_type": "code",
   "execution_count": null,
   "metadata": {
    "collapsed": true
   },
   "outputs": [],
   "source": [
    "import numpy as np\n",
    "import os\n",
    "import tensorflow as tf\n",
    "\n",
    "from unityagents import UnityEnvironment"
   ]
  },
  {
   "cell_type": "markdown",
   "metadata": {},
   "source": [
    "### Hyperparameters"
   ]
  },
  {
   "cell_type": "code",
   "execution_count": null,
   "metadata": {
    "collapsed": true
   },
   "outputs": [],
   "source": [
    "y = 0.99 # Discount rate.\n",
    "total_episodes = 20000 #Set total number of episodes to train agent on.\n",
    "update_frequency = 20 # How many episodes before updating model.\n",
    "summary_freq = 100 # How often to display summary statistics.\n",
    "learning_rate = 1e-3 # Agent learning rate.\n",
    "hidden_units = 32 # Number of units in hidden layer.\n",
    "summary_path = './summaries/vpg' # Where to save summary statistics.\n",
    "model_path = './models/vpg' # Where to save model checkpoints.\n",
    "load_model = False # Whether to load a saved model.\n",
    "train_model = True # Whether to train the model."
   ]
  },
  {
   "cell_type": "markdown",
   "metadata": {},
   "source": [
    "### Load the Unity environment"
   ]
  },
  {
   "cell_type": "code",
   "execution_count": null,
   "metadata": {
    "collapsed": true
   },
   "outputs": [],
   "source": [
    "env = UnityEnvironment(\"./envs/2DBall\", worker_id=5)\n",
    "default_brain = env.brain_names[0]"
   ]
  },
  {
   "cell_type": "markdown",
   "metadata": {},
   "source": [
    "### Examine state space"
   ]
  },
  {
   "cell_type": "code",
   "execution_count": null,
   "metadata": {
    "collapsed": true
   },
   "outputs": [],
   "source": [
    "brains = env.reset()\n",
    "agent_brain = brains[default_brain]\n",
    "print(agent_brain.vector_observations)"
   ]
  },
  {
   "cell_type": "markdown",
   "metadata": {},
   "source": [
    "State *(s)* is a vector whose values corresponds to the rotation of the platform and position and velocity of the ball."
   ]
  },
  {
   "cell_type": "markdown",
   "metadata": {},
   "source": [
    "### The Actor Critic Agent"
   ]
  },
  {
   "cell_type": "code",
   "execution_count": null,
   "metadata": {
    "collapsed": true
   },
   "outputs": [],
   "source": [
    "class VPGAgent():\n",
    "    def __init__(self, lr, s_size,a_size,h_size):\n",
    "        # These lines established the feed-forward part of the network. \n",
    "        # The agent takes a state and produces an action.\n",
    "        self.state_in= tf.placeholder(shape=[None,s_size],dtype=tf.float32)\n",
    "        hidden = tf.layers.dense(self.state_in, h_size, activation=tf.nn.elu)\n",
    "        self.policy = tf.layers.dense(hidden, a_size, activation=tf.nn.softmax)\n",
    "        self.sampled_action = tf.multinomial(self.policy, 1)\n",
    "        \n",
    "        # The randomness in the action probabilities.\n",
    "        self.entropy = -tf.reduce_sum(self.policy * tf.log(self.policy + 1e-10), axis=1)\n",
    "        \n",
    "        # The next six lines establish the training proceedure. \n",
    "        # We feed the reward and chosen action into the network\n",
    "        # to compute the loss, and use it to update the network.\n",
    "        self.reward_holder = tf.placeholder(shape=[None],dtype=tf.float32)\n",
    "        \n",
    "        # We normalize the discounted returns.\n",
    "        mean_rew, var_rew = tf.nn.moments(self.reward_holder, axes=0)\n",
    "        normalized_rewards = (self.reward_holder - mean_rew) / (tf.sqrt(var_rew) + 1e-10)\n",
    "\n",
    "        self.action_holder = tf.placeholder(shape=[None],dtype=tf.int32)\n",
    "        self.actions = tf.one_hot(self.action_holder, a_size)\n",
    "        \n",
    "        self.responsible_outputs = tf.reduce_sum(self.policy * self.actions, axis=1)\n",
    "        self.policy_loss = -tf.reduce_mean(tf.log(self.responsible_outputs) * normalized_rewards)\n",
    "        self.loss = self.policy_loss - 0.01 * tf.reduce_mean(self.entropy)\n",
    "                \n",
    "        # Here we apply the gradients to update the network. \n",
    "        optimizer = tf.train.AdamOptimizer(learning_rate=lr)\n",
    "        self.update_model = optimizer.minimize(self.loss)"
   ]
  },
  {
   "cell_type": "markdown",
   "metadata": {},
   "source": [
    "### Training the Agent"
   ]
  },
  {
   "cell_type": "code",
   "execution_count": null,
   "metadata": {
    "collapsed": true
   },
   "outputs": [],
   "source": [
    "# Function to take list of rewards and discount factor\n",
    "# and produce discounted sum of future rewards.\n",
    "def discount_rewards(r, gamma):\n",
    "    discounted_r = np.zeros_like(r)\n",
    "    running_add = 0\n",
    "    for t in reversed(range(0, r.size)):\n",
    "        running_add = running_add * gamma + r[t]\n",
    "        discounted_r[t] = running_add\n",
    "    return discounted_r"
   ]
  },
  {
   "cell_type": "code",
   "execution_count": null,
   "metadata": {
    "collapsed": true,
    "scrolled": true
   },
   "outputs": [],
   "source": [
    "if not os.path.exists(summary_path):\n",
    "    os.makedirs(summary_path)\n",
    "\n",
    "if not os.path.exists(model_path):\n",
    "    os.makedirs(model_path)\n",
    "\n",
    "# Create our tensorflow agent\n",
    "tf.reset_default_graph()\n",
    "space_size = env.brains[default_brain].vector_observation_space_size * env.brains[default_brain].num_stacked_vector_observations\n",
    "action_size = env.brains[default_brain].vector_action_space_size\n",
    "myAgent = VPGAgent(lr=learning_rate, s_size=space_size, \n",
    "                   a_size=action_size, h_size=hidden_units) \n",
    "\n",
    "# Start an interactive TensorFlow session.\n",
    "sess = tf.InteractiveSession()\n",
    "init = tf.global_variables_initializer()\n",
    "sess.run(init)\n",
    "summary_writer = tf.summary.FileWriter(summary_path)\n",
    "saver = tf.train.Saver()\n",
    "\n",
    "# Optionally load the model.\n",
    "if load_model:\n",
    "    print('Loading Model...')\n",
    "    ckpt = tf.train.get_checkpoint_state(model_path)\n",
    "    saver.restore(sess,ckpt.model_checkpoint_path)\n",
    "    \n",
    "# Create variables which will be used throughout training.\n",
    "total_reward = []\n",
    "total_length = []\n",
    "total_entropy = []\n",
    "global_buffer = np.zeros([0, 4])\n",
    "\n",
    "# Start training loop\n",
    "brain = env.reset()[default_brain]\n",
    "state = brain.vector_observations[0]\n",
    "\n",
    "for i in range(total_episodes):\n",
    "    episode_steps = 0\n",
    "    running_reward = 0\n",
    "    done = False\n",
    "    ep_history = []\n",
    "    while not done:\n",
    "        episode_steps += 1\n",
    "        \n",
    "        # Probabilistically pick an action given our network outputs.\n",
    "        action, entropy = sess.run([myAgent.sampled_action, myAgent.entropy], \n",
    "                          feed_dict={myAgent.state_in:[state]})\n",
    "        \n",
    "        # Take action in environment.\n",
    "        brain_info = env.step(action)[default_brain]\n",
    "        \n",
    "        # Collect resulting reward and new observation.\n",
    "        state_1 = brain_info.vector_observations[0]\n",
    "        reward = brain_info.rewards[0]\n",
    "        done = brain_info.local_done[0]\n",
    "        ep_history.append([state, action, reward, entropy])\n",
    "        \n",
    "        state = state_1\n",
    "        running_reward += reward\n",
    "        \n",
    "        if done and train_model:\n",
    "            ep_history = np.array(ep_history)\n",
    "            ep_history[:,2] = discount_rewards(ep_history[:,2], y)\n",
    "            global_buffer = np.concatenate([global_buffer, ep_history])\n",
    "            \n",
    "            if i % update_frequency == 0 and i != 0:\n",
    "                feed_dict={myAgent.reward_holder:global_buffer[:,2],\n",
    "                        myAgent.action_holder:global_buffer[:,1],\n",
    "                        myAgent.state_in:np.vstack(global_buffer[:,0])}\n",
    "                p_loss, _ = sess.run([myAgent.policy_loss, myAgent.update_model], feed_dict=feed_dict)\n",
    "                \n",
    "                global_buffer = np.zeros([0, 4])\n",
    "\n",
    "    total_entropy.append(np.mean(ep_history[:,3]))\n",
    "    total_reward.append(running_reward)\n",
    "    total_length.append(episode_steps)\n",
    "\n",
    "    # Update our running tally of scores and save information to Tensorboard.\n",
    "    if i % summary_freq == 0 and i != 0:\n",
    "        summary = tf.Summary()\n",
    "        summary.value.add(tag='Info/Mean Reward', simple_value=float(np.mean(total_reward[-summary_freq:])))\n",
    "        summary.value.add(tag='Info/Episode Length', simple_value=float(np.mean(total_length[-summary_freq:])))\n",
    "        summary.value.add(tag='Info/Entropy', simple_value=float(np.mean(total_entropy[-summary_freq:])))\n",
    "        summary.value.add(tag='Info/Policy Loss', simple_value=float(p_loss))\n",
    "        summary_writer.add_summary(summary, i)\n",
    "        summary_writer.flush()\n",
    "        print(\"Episode: {}, Mean Reward: {}\".format(str(i), str(round(np.mean(total_reward[-summary_freq:]), 3))))\n",
    "    # Save agent's model\n",
    "    if i % 1000 == 0 and i != 0:\n",
    "        saver.save(sess, model_path+'/model-'+str(i)+'.cptk')\n",
    "        print(\"Saved Model\")\n",
    "env.close()"
   ]
  },
  {
   "cell_type": "code",
   "execution_count": null,
   "metadata": {
    "collapsed": true
   },
   "outputs": [],
   "source": [
    "env.close()"
   ]
  }
 ],
 "metadata": {
  "anaconda-cloud": {},
  "kernelspec": {
   "display_name": "Python 3",
   "language": "python",
   "name": "python3"
  },
  "language_info": {
   "codemirror_mode": {
    "name": "ipython",
    "version": 3
   },
   "file_extension": ".py",
   "mimetype": "text/x-python",
   "name": "python",
   "nbconvert_exporter": "python",
   "pygments_lexer": "ipython3",
   "version": "3.6.2"
  }
 },
 "nbformat": 4,
 "nbformat_minor": 2
}
