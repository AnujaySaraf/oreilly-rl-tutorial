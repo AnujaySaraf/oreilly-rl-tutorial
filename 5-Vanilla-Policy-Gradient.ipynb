{
 "cells": [
  {
   "cell_type": "markdown",
   "metadata": {},
   "source": [
    "# Exercise 6: Vanilla Policy Gradient (VPG)"
   ]
  },
  {
   "cell_type": "code",
   "execution_count": null,
   "metadata": {
    "collapsed": true
   },
   "outputs": [],
   "source": [
    "import numpy as np\n",
    "import os\n",
    "import tensorflow as tf\n",
    "\n",
    "from unityagents import UnityEnvironment"
   ]
  },
  {
   "cell_type": "markdown",
   "metadata": {},
   "source": [
    "### Hyperparameters"
   ]
  },
  {
   "cell_type": "code",
   "execution_count": null,
   "metadata": {
    "collapsed": true
   },
   "outputs": [],
   "source": [
    "y = 0.99 # Discount rate.\n",
    "total_episodes = 20000 #Set total number of episodes to train agent on.\n",
    "update_frequency = 20 # How many episodes before updating model.\n",
    "summary_freq = 50 # How often to display summary statistics.\n",
    "learning_rate = 1e-3 # Agent learning rate.\n",
    "hidden_units = 128 # Number of units in hidden layer.\n",
    "summary_path = './summaries/vpg' # Where to save summary statistics.\n",
    "model_path = './models/vpg' # Where to save model checkpoints.\n",
    "load_model = False # Whether to load a saved model.\n",
    "train_model = True # Whether to train the model."
   ]
  },
  {
   "cell_type": "markdown",
   "metadata": {},
   "source": [
    "### Load the Unity environment"
   ]
  },
  {
   "cell_type": "code",
   "execution_count": null,
   "metadata": {
    "collapsed": true
   },
   "outputs": [],
   "source": [
    "env = UnityEnvironment(\"./envs/Banana\", worker_id=5)\n",
    "default_brain = env.brain_names[0]"
   ]
  },
  {
   "cell_type": "markdown",
   "metadata": {},
   "source": [
    "### Examine state space"
   ]
  },
  {
   "cell_type": "code",
   "execution_count": null,
   "metadata": {
    "collapsed": true
   },
   "outputs": [],
   "source": [
    "brains = env.reset()\n",
    "agent_brain = brains[default_brain]\n",
    "print(agent_brain.vector_observations)"
   ]
  },
  {
   "cell_type": "markdown",
   "metadata": {},
   "source": [
    "Observation *(o)* is a vector whose values corresponds to results of \"local\" perception."
   ]
  },
  {
   "cell_type": "markdown",
   "metadata": {},
   "source": [
    "### The Actor Critic Agent"
   ]
  },
  {
   "cell_type": "code",
   "execution_count": null,
   "metadata": {
    "collapsed": true
   },
   "outputs": [],
   "source": [
    "class VPGAgent():\n",
    "    def __init__(self, lr, s_size,a_size,h_size):\n",
    "        # These lines established the feed-forward part of the network. \n",
    "        # The agent takes a state and produces an action.\n",
    "        self.state_in= tf.placeholder(shape=[None,s_size],dtype=tf.float32)\n",
    "        self.batch_size = tf.placeholder(shape=None, dtype=tf.int32)\n",
    "        hidden = tf.layers.dense(self.state_in, h_size, use_bias=False, activation=tf.nn.elu)\n",
    "        self.policy = tf.layers.dense(hidden, a_size, activation=tf.nn.softmax, use_bias=False)\n",
    "        self.sampled_action = tf.multinomial(self.policy, 1)\n",
    "        \n",
    "        # The randomness in the action probabilities.\n",
    "        self.entropy = -tf.reduce_sum(self.policy * tf.log(self.policy + 1e-10), axis=1)\n",
    "        \n",
    "        # The next six lines establish the training proceedure. \n",
    "        # We feed the reward and chosen action into the network\n",
    "        # to compute the loss, and use it to update the network.\n",
    "        self.reward_holder = tf.placeholder(shape=[None],dtype=tf.float32)\n",
    "        self.action_holder = tf.placeholder(shape=[None],dtype=tf.int32)\n",
    "        self.actions = tf.one_hot(self.action_holder, a_size)\n",
    "        \n",
    "        self.responsible_outputs = tf.reduce_sum(self.policy * self.actions, axis=1)\n",
    "        self.advantage = self.reward_holder\n",
    "        self.loss = -tf.reduce_mean(tf.log(self.responsible_outputs)*self.advantage)\n",
    "        \n",
    "        # This is used to collect gradient for each tensor in the network.\n",
    "        tvars = tf.trainable_variables()\n",
    "        self.gradient_holders = []\n",
    "        for idx,var in enumerate(tvars):\n",
    "            placeholder = tf.placeholder(tf.float32,name=str(idx)+'_holder')\n",
    "            self.gradient_holders.append(placeholder)\n",
    "        \n",
    "        self.gradients = tf.gradients(self.loss,tvars)\n",
    "        \n",
    "        # Here we apply the gradients to update the network. \n",
    "        optimizer = tf.train.AdamOptimizer(learning_rate=lr)\n",
    "        self.update_batch = optimizer.apply_gradients(zip(self.gradient_holders,tvars))"
   ]
  },
  {
   "cell_type": "markdown",
   "metadata": {},
   "source": [
    "### Training the Agent"
   ]
  },
  {
   "cell_type": "code",
   "execution_count": null,
   "metadata": {
    "collapsed": true
   },
   "outputs": [],
   "source": [
    "# Function to take list of rewards and discount factor\n",
    "# and produce discounted sum of future rewards.\n",
    "def discount_rewards(r, gamma):\n",
    "    discounted_r = np.zeros_like(r)\n",
    "    running_add = 0\n",
    "    for t in reversed(range(0, r.size)):\n",
    "        running_add = running_add * gamma + r[t]\n",
    "        discounted_r[t] = running_add\n",
    "    return discounted_r"
   ]
  },
  {
   "cell_type": "code",
   "execution_count": null,
   "metadata": {
    "collapsed": true,
    "scrolled": true
   },
   "outputs": [],
   "source": [
    "if not os.path.exists(summary_path):\n",
    "    os.makedirs(summary_path)\n",
    "\n",
    "if not os.path.exists(model_path):\n",
    "    os.makedirs(model_path)\n",
    "\n",
    "# Create our tensorflow agent\n",
    "tf.reset_default_graph()\n",
    "space_size = env.brains[default_brain].vector_observation_space_size * env.brains[default_brain].num_stacked_vector_observations\n",
    "action_size = env.brains[default_brain].vector_action_space_size\n",
    "myAgent = VPGAgent(lr=learning_rate, s_size=space_size, \n",
    "                   a_size=action_size, h_size=hidden_units) \n",
    "\n",
    "# Start an interactive TensorFlow session.\n",
    "sess = tf.InteractiveSession()\n",
    "init = tf.global_variables_initializer()\n",
    "sess.run(init)\n",
    "summary_writer = tf.summary.FileWriter(summary_path)\n",
    "saver = tf.train.Saver()\n",
    "\n",
    "# Optionally load the model.\n",
    "if load_model:\n",
    "    print('Loading Model...')\n",
    "    ckpt = tf.train.get_checkpoint_state(model_path)\n",
    "    saver.restore(sess,ckpt.model_checkpoint_path)\n",
    "    \n",
    "# Create buffer for storing gradients.\n",
    "gradBuffer = sess.run(tf.trainable_variables())\n",
    "for ix,grad in enumerate(gradBuffer):\n",
    "    gradBuffer[ix] = grad * 0\n",
    "    \n",
    "# Create variables which will be used throughout training.\n",
    "total_reward = []\n",
    "total_length = []\n",
    "total_entropy = []\n",
    "\n",
    "# Start training loop\n",
    "for i in range(total_episodes):\n",
    "    brain = env.reset()[default_brain]\n",
    "    state = brain.vector_observations[0]\n",
    "    episode_steps = 0\n",
    "    running_reward = 0\n",
    "    done = False\n",
    "    ep_history = []\n",
    "    episode_entropy = []\n",
    "    while not done:\n",
    "        episode_steps += 1\n",
    "        \n",
    "        # Probabilistically pick an action given our network outputs.\n",
    "        action, entropy = sess.run([myAgent.sampled_action, myAgent.entropy], \n",
    "                          feed_dict={myAgent.state_in:[state], myAgent.batch_size: 1})\n",
    "        \n",
    "        # Take action in environment.\n",
    "        brain_info = env.step(action)[default_brain]\n",
    "        \n",
    "        # Collect resulting reward and new observation.\n",
    "        state_1 = brain_info.vector_observations[0]\n",
    "        reward = brain_info.rewards[0]\n",
    "        done = brain_info.local_done[0]\n",
    "        ep_history.append([state, action, reward, state_1])\n",
    "        episode_entropy.append(entropy)\n",
    "        \n",
    "        state = state_1\n",
    "        running_reward += reward\n",
    "        \n",
    "        if done and train_model:\n",
    "            # Collect gradients for episode.\n",
    "            ep_history = np.array(ep_history)\n",
    "            discounted_rewards = discount_rewards(ep_history[:,2], y)\n",
    "            ep_history[:,2] = (discounted_rewards - np.mean(discounted_rewards)) / (np.std(discounted_rewards) + 1e-10)\n",
    "            feed_dict={myAgent.reward_holder:ep_history[:,2],\n",
    "                    myAgent.action_holder:ep_history[:,1],\n",
    "                    myAgent.state_in:np.vstack(ep_history[:,0]),\n",
    "                    myAgent.batch_size: len(ep_history)}\n",
    "            p_loss, grads = sess.run([myAgent.loss, myAgent.gradients], feed_dict=feed_dict)\n",
    "            for idx,grad in enumerate(grads):\n",
    "                gradBuffer[idx] += grad\n",
    "\n",
    "            # Apply gradients for past 'n' episodes.\n",
    "            if i % update_frequency == 0 and i != 0:\n",
    "                feed_dict = dictionary = dict(zip(myAgent.gradient_holders, gradBuffer))\n",
    "                _ = sess.run(myAgent.update_batch, feed_dict=feed_dict)\n",
    "                for ix,grad in enumerate(gradBuffer):\n",
    "                    gradBuffer[ix] = grad * 0\n",
    "    total_entropy.append(np.mean(episode_entropy))\n",
    "    total_reward.append(running_reward)\n",
    "    total_length.append(episode_steps)\n",
    "\n",
    "    # Update our running tally of scores and save information to Tensorboard.\n",
    "    if i % summary_freq == 0 and i != 0:\n",
    "        summary = tf.Summary()\n",
    "        summary.value.add(tag='Info/Mean Reward', simple_value=float(np.mean(total_reward[-summary_freq:])))\n",
    "        summary.value.add(tag='Info/Entropy', simple_value=float(np.mean(total_entropy[-summary_freq:])))\n",
    "        summary.value.add(tag='Info/Policy Loss', simple_value=float(p_loss))\n",
    "        summary_writer.add_summary(summary, i)\n",
    "        summary_writer.flush()\n",
    "        print(\"Episode: {}, Mean Reward: {}\".format(str(i), str(round(np.mean(total_reward[-summary_freq:]), 3))))\n",
    "    # Save agent's model\n",
    "    if i % 1000 == 0 and i != 0:\n",
    "        saver.save(sess, model_path+'/model-'+str(i)+'.cptk')\n",
    "        print(\"Saved Model\")\n",
    "env.close()"
   ]
  },
  {
   "cell_type": "code",
   "execution_count": null,
   "metadata": {
    "collapsed": true
   },
   "outputs": [],
   "source": [
    "env.close()"
   ]
  }
 ],
 "metadata": {
  "anaconda-cloud": {},
  "kernelspec": {
   "display_name": "Python 3",
   "language": "python",
   "name": "python3"
  },
  "language_info": {
   "codemirror_mode": {
    "name": "ipython",
    "version": 3
   },
   "file_extension": ".py",
   "mimetype": "text/x-python",
   "name": "python",
   "nbconvert_exporter": "python",
   "pygments_lexer": "ipython3",
   "version": "3.6.2"
  }
 },
 "nbformat": 4,
 "nbformat_minor": 2
}
