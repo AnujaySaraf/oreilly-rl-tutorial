{
 "cells": [
  {
   "cell_type": "markdown",
   "metadata": {},
   "source": [
    "# Exercise 4: Q-Learning with Monte Carlo Updates"
   ]
  },
  {
   "cell_type": "code",
   "execution_count": null,
   "metadata": {
    "collapsed": true
   },
   "outputs": [],
   "source": [
    "from __future__ import division\n",
    "\n",
    "import json\n",
    "import numpy as np\n",
    "import random\n",
    "import os\n",
    "import tensorflow as tf\n",
    "\n",
    "from unityagents import UnityEnvironment"
   ]
  },
  {
   "cell_type": "markdown",
   "metadata": {},
   "source": [
    "### Hyperparameters"
   ]
  },
  {
   "cell_type": "code",
   "execution_count": null,
   "metadata": {
    "collapsed": true
   },
   "outputs": [],
   "source": [
    "y = .99 # Discount rate\n",
    "start_e = 1 # Starting epsilon value\n",
    "end_e = 0.1 # Final epsilon value\n",
    "summary_freq = 50 # How often to display information about training\n",
    "annealing_steps = 10000 # Number of steps to anneal epsilon\n",
    "num_episodes = 1000 # Total episodes to run environment\n",
    "summary_path = './summaries/q-mc' # Path to save statistics\n",
    "learning_rate = 1e-2 # Agent learning rate"
   ]
  },
  {
   "cell_type": "markdown",
   "metadata": {},
   "source": [
    "### Load the Unity environment"
   ]
  },
  {
   "cell_type": "code",
   "execution_count": null,
   "metadata": {
    "collapsed": true,
    "scrolled": false
   },
   "outputs": [],
   "source": [
    "env = UnityEnvironment(\"./envs/Tabular\", worker_id=3)\n",
    "default_brain = env.brain_names[0]"
   ]
  },
  {
   "cell_type": "markdown",
   "metadata": {},
   "source": [
    "### Examine the state space"
   ]
  },
  {
   "cell_type": "code",
   "execution_count": null,
   "metadata": {
    "collapsed": true
   },
   "outputs": [],
   "source": [
    "brain = env.reset()\n",
    "bandit_brain = brain[default_brain]\n",
    "print(bandit_brain.vector_observations)"
   ]
  },
  {
   "cell_type": "markdown",
   "metadata": {},
   "source": [
    "State (s) is an integer which corresponds to a discrete state."
   ]
  },
  {
   "cell_type": "markdown",
   "metadata": {},
   "source": [
    "## The Q-Learning Agent"
   ]
  },
  {
   "cell_type": "code",
   "execution_count": null,
   "metadata": {
    "collapsed": true
   },
   "outputs": [],
   "source": [
    "class QAgent(object):\n",
    "    def __init__(self, num_states, num_actions, lr):\n",
    "        # These lines establish the feed-forward part of the network used to estimate Q(s, a)\n",
    "        self.state_input = tf.placeholder(shape=[None, 1],dtype=tf.int32)\n",
    "        \n",
    "        # The network takes an integer and uses it to index a row of the matrix.\n",
    "        state = tf.contrib.layers.one_hot_encoding(self.state_input, num_states)\n",
    "        self.q_out = tf.layers.dense(state, num_actions,\n",
    "                                          use_bias=None, \n",
    "                                          kernel_initializer= tf.ones_initializer(),\n",
    "                                          activation=None)\n",
    "        self.q_out = tf.layers.flatten(self.q_out)\n",
    "        \n",
    "        # Selected action is largest Q value for current state.\n",
    "        self.predict = tf.argmax(self.q_out,1)\n",
    "\n",
    "        # Below we obtain the loss by taking the sum of squares difference\n",
    "        # between the target and prediction Q values.\n",
    "        self.q_next = tf.placeholder(shape=[None],dtype=tf.float32)\n",
    "        self.action = tf.placeholder(shape=[None],dtype=tf.int32)\n",
    "        self.action_onehot = tf.contrib.layers.one_hot_encoding(self.action, num_actions)\n",
    "        self.selected_q = tf.reduce_sum(self.q_out * self.action_onehot, axis=1)\n",
    "        self.loss = tf.reduce_sum(tf.squared_difference(self.q_next, self.selected_q))\n",
    "        \n",
    "        # Update our network.\n",
    "        trainer = tf.train.AdamOptimizer(learning_rate=lr)\n",
    "        self.update = trainer.minimize(self.loss)"
   ]
  },
  {
   "cell_type": "markdown",
   "metadata": {},
   "source": [
    "### Training the network"
   ]
  },
  {
   "cell_type": "code",
   "execution_count": 1,
   "metadata": {},
   "outputs": [],
   "source": [
    "# Function to take list of rewards and discount factor\n",
    "# and produce discounted sum of future rewards.\n",
    "def discount_rewards(r, gamma):\n",
    "    discounted_r = np.zeros_like(r)\n",
    "    running_add = 0\n",
    "    for t in reversed(range(0, r.size)):\n",
    "        running_add = running_add * gamma + r[t]\n",
    "        discounted_r[t] = running_add\n",
    "    return discounted_r"
   ]
  },
  {
   "cell_type": "code",
   "execution_count": null,
   "metadata": {
    "collapsed": true,
    "scrolled": true
   },
   "outputs": [],
   "source": [
    "if not os.path.exists(summary_path):\n",
    "    os.makedirs(summary_path)\n",
    "\n",
    "# Create our tensorflow agent\n",
    "tf.reset_default_graph()\n",
    "space_size = env.brains[default_brain].vector_observation_space_size\n",
    "action_size = env.brains[default_brain].vector_action_space_size\n",
    "agent = QAgent(space_size, action_size, learning_rate)\n",
    "\n",
    "# Start an interactive TensorFlow session.\n",
    "sess = tf.InteractiveSession()\n",
    "init = tf.global_variables_initializer()\n",
    "sess.run(init)\n",
    "summary_writer = tf.summary.FileWriter(summary_path)\n",
    "\n",
    "# Create variables which will be used throughout training.\n",
    "e_drop = (start_e - end_e) / annealing_steps\n",
    "e = start_e\n",
    "value_table = np.zeros([space_size])\n",
    "episode_list = []\n",
    "reward_list = []\n",
    "loss_list = []\n",
    "\n",
    "# Reset the environment before training.\n",
    "brains = env.reset()\n",
    "state = brains[default_brain].vector_observations[0]\n",
    "\n",
    "# Start training loop\n",
    "for i in range(num_episodes):\n",
    "    # Reset environment and get first new state\n",
    "    total_reward = 0\n",
    "    done = False\n",
    "    episode_steps = 0\n",
    "    episode_buffer = []\n",
    "    while not done:\n",
    "        episode_steps +=1\n",
    "        # Choose an action by greedily (with e chance of random action) from the Q-network\n",
    "        action, Q = sess.run([agent.predict,agent.q_out],feed_dict={agent.state_input: [state]})\n",
    "        action = action[0]\n",
    "        if np.random.rand(1) < e:\n",
    "            action = np.random.randint(0, action_size)\n",
    "\n",
    "        # Get new state and reward from environment\n",
    "        brains = env.step(vector_action = action, text_action = json.dumps(value_table.tolist()))\n",
    "        tabular_brain = brains[default_brain]\n",
    "        state_1 = tabular_brain.vector_observations[0]\n",
    "        reward = tabular_brain.rewards[0]\n",
    "        done = tabular_brain.local_done[0]\n",
    "        episode_buffer.append([state, action, reward, state_1, done])\n",
    "\n",
    "        total_reward += reward\n",
    "        state = state_1\n",
    "        if e > end_e:\n",
    "            e -= e_drop\n",
    "            \n",
    "    # Train our network using target and estimated Q values\n",
    "    episode_matrix = np.array(episode_buffer)\n",
    "    episode_matrix[:, 2] = discount_rewards(episode_matrix[:, 2], y)\n",
    "    _, q_table, v_loss = sess.run([agent.update, \n",
    "                                   tf.trainable_variables()[0], \n",
    "                                   agent.loss],\n",
    "             feed_dict={agent.state_input: np.vstack(episode_matrix[:, 0]), \n",
    "                        agent.q_next: episode_matrix[:, 2],\n",
    "                        agent.action: episode_matrix[:, 1]})\n",
    "    \n",
    "    loss_list.append(v_loss)\n",
    "    episode_list.append(episode_steps)\n",
    "    reward_list.append(total_reward)\n",
    "    value_table = np.mean(q_table, axis=1)\n",
    "\n",
    "    # Update our running tally of scores and save information to Tensorboard.\n",
    "    if i % summary_freq == 0 and i != 0:\n",
    "        summary = tf.Summary()\n",
    "        summary.value.add(tag='Info/Reward', simple_value=float(np.mean(reward_list[-summary_freq:])))\n",
    "        summary.value.add(tag='Info/Value Loss', simple_value=float(np.mean(loss_list[-summary_freq:])))\n",
    "        summary.value.add(tag='Info/Epsilon', simple_value=float(e))\n",
    "        summary.value.add(tag='Info/Q Estimate', simple_value=float(np.mean(value_table)))\n",
    "        summary.value.add(tag='Info/Episode Length', simple_value=float(np.mean(episode_list[-summary_freq:])))\n",
    "        summary_writer.add_summary(summary, i)\n",
    "        summary_writer.flush()\n",
    "        print(\"Episode: {}, Epsilon: {}, Mean Reward: {}\".format(str(i), str(e), str(round(np.mean(reward_list[-summary_freq:]), 3))))\n",
    "env.close()"
   ]
  },
  {
   "cell_type": "code",
   "execution_count": null,
   "metadata": {
    "collapsed": true
   },
   "outputs": [],
   "source": [
    "env.close()"
   ]
  }
 ],
 "metadata": {
  "anaconda-cloud": {},
  "kernelspec": {
   "display_name": "Python 3",
   "language": "python",
   "name": "python3"
  },
  "language_info": {
   "codemirror_mode": {
    "name": "ipython",
    "version": 3
   },
   "file_extension": ".py",
   "mimetype": "text/x-python",
   "name": "python",
   "nbconvert_exporter": "python",
   "pygments_lexer": "ipython3",
   "version": "3.6.2"
  }
 },
 "nbformat": 4,
 "nbformat_minor": 2
}
