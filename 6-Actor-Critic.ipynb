{
 "cells": [
  {
   "cell_type": "markdown",
   "metadata": {},
   "source": [
    "# Exercise 7: Advantage Actor-Critic (A2C)"
   ]
  },
  {
   "cell_type": "code",
   "execution_count": null,
   "metadata": {
    "collapsed": true
   },
   "outputs": [],
   "source": [
    "import numpy as np\n",
    "import os\n",
    "import tensorflow as tf\n",
    "import tensorflow.contrib.slim as slim\n",
    "from tensorflow.python.framework import ops\n",
    "\n",
    "from unityagents import UnityEnvironment"
   ]
  },
  {
   "cell_type": "markdown",
   "metadata": {},
   "source": [
    "### Hyperparameters"
   ]
  },
  {
   "cell_type": "code",
   "execution_count": null,
   "metadata": {
    "collapsed": true
   },
   "outputs": [],
   "source": [
    "y = 0.99 # Discount rate.\n",
    "total_episodes = 20000 # Set total number of episodes to train agent on.\n",
    "update_frequency = 10 # How many episodes before updating model.\n",
    "summary_freq = 50\n",
    "learning_rate = 1e-3 # Agent learning rate.\n",
    "hidden_units = 128 # Number of units in hidden layer.\n",
    "model_path = \"./models/ac\" # The path to save our model to.\n",
    "summary_path = \"./summaries/ac\" # The path to save our model to.\n",
    "load_model = False # Whether to load a saved model.\n",
    "train_model = True # Whether to train the model."
   ]
  },
  {
   "cell_type": "markdown",
   "metadata": {},
   "source": [
    "### Load the environment"
   ]
  },
  {
   "cell_type": "code",
   "execution_count": null,
   "metadata": {},
   "outputs": [],
   "source": [
    "env = UnityEnvironment(\"./envs/3DBall\", worker_id=6)\n",
    "default_brain = env.brain_names[0]"
   ]
  },
  {
   "cell_type": "markdown",
   "metadata": {},
   "source": [
    "### Examine state space"
   ]
  },
  {
   "cell_type": "code",
   "execution_count": null,
   "metadata": {},
   "outputs": [],
   "source": [
    "brains = env.reset()\n",
    "agent_brain = brain[default_brain]\n",
    "print(agent_brain.vector_observations)"
   ]
  },
  {
   "cell_type": "markdown",
   "metadata": {},
   "source": [
    "State (s) is a vector whose values corresponds to:\n",
    "* Platform Z rotation\n",
    "* Platform X rotation\n",
    "* Ball X position\n",
    "* Ball Y position\n",
    "* Ball Z position\n",
    "* Ball X velocity\n",
    "* Ball Y velocity\n",
    "* Ball Z velocity"
   ]
  },
  {
   "cell_type": "markdown",
   "metadata": {},
   "source": [
    "### The Actor Critic Agent"
   ]
  },
  {
   "cell_type": "code",
   "execution_count": null,
   "metadata": {
    "collapsed": true
   },
   "outputs": [],
   "source": [
    "class ACAgent():\n",
    "    def __init__(self, lr, s_size,a_size,h_size):\n",
    "        #These lines established the feed-forward part of the network. The agent takes a state and produces an action.\n",
    "        self.state_in= tf.placeholder(shape=[None,s_size],dtype=tf.float32)\n",
    "        self.batch_size = tf.placeholder(shape=None, dtype=tf.int32)\n",
    "        hidden = slim.fully_connected(self.state_in,h_size,biases_initializer=None,activation_fn=tf.nn.elu)\n",
    "        self.policy = tf.layers.dense(hidden, a_size, activation=tf.nn.softmax, use_bias=False)\n",
    "        self.sampled_action = tf.multinomial(self.policy, 1)\n",
    "        self.value = slim.fully_connected(hidden,1,activation_fn=None, biases_initializer=None)\n",
    "\n",
    "        # The randomness in the action probabilities.\n",
    "        self.entropy = -tf.reduce_sum(self.policy * tf.log(self.policy + 1e-10), axis=1)\n",
    "\n",
    "        #The next six lines establish the training proceedure. We feed the reward and chosen action into the network\n",
    "        #to compute the loss, and use it to update the network.\n",
    "        self.reward_holder = tf.placeholder(shape=[None],dtype=tf.float32)\n",
    "        self.action_holder = tf.placeholder(shape=[None],dtype=tf.int32)\n",
    "        self.actions = slim.one_hot_encoding(self.action_holder, a_size)\n",
    "        \n",
    "        self.responsible_outputs = tf.reduce_sum(self.output * self.actions, axis=1)\n",
    "        self.advantage = self.reward_holder - tf.stop_gradient(tf.reduce_sum(self.value, axis=1))\n",
    "        \n",
    "        self.policy_loss = -tf.reduce_mean(tf.log(self.responsible_outputs)*self.advantage)\n",
    "        self.value_loss = tf.reduce_mean(tf.squared_difference(self.reward_holder,tf.reduce_sum(self.value,axis=1)))\n",
    "        self.loss = self.policy_loss + self.value_loss\n",
    "        \n",
    "        # This is used to collect gradient for each tensor in the network.\n",
    "        tvars = tf.trainable_variables()\n",
    "        self.gradient_holders = []\n",
    "        for idx,var in enumerate(tvars):\n",
    "            placeholder = tf.placeholder(tf.float32,name=str(idx)+'_holder')\n",
    "            self.gradient_holders.append(placeholder)\n",
    "        \n",
    "        # Here we apply the gradients to update the network. \n",
    "        self.gradients = tf.gradients(self.loss,tvars)\n",
    "        optimizer = tf.train.AdamOptimizer(learning_rate=lr)\n",
    "        self.update_batch = optimizer.apply_gradients(zip(self.gradient_holders,tvars))"
   ]
  },
  {
   "cell_type": "markdown",
   "metadata": {},
   "source": [
    "### Training the Agent"
   ]
  },
  {
   "cell_type": "code",
   "execution_count": null,
   "metadata": {
    "collapsed": true
   },
   "outputs": [],
   "source": [
    "# Function to take list of rewards and discount factor\n",
    "# and produce discounted sum of future rewards.\n",
    "def discount_rewards(r, gamma):\n",
    "    discounted_r = np.zeros_like(r)\n",
    "    running_add = 0\n",
    "    for t in reversed(range(0, r.size)):\n",
    "        running_add = running_add * gamma + r[t]\n",
    "        discounted_r[t] = running_add\n",
    "    return discounted_r"
   ]
  },
  {
   "cell_type": "code",
   "execution_count": null,
   "metadata": {
    "scrolled": true
   },
   "outputs": [],
   "source": [
    "if not os.path.exists(model_path):\n",
    "    os.makedirs(model_path)\n",
    "    \n",
    "if not os.path.exists(summary_path):\n",
    "    os.makedirs(summary_path)\n",
    "\n",
    "#Load the agent.\n",
    "myAgent = ACAgent(lr=learning_rate, s_size=env.state_space_size, \n",
    "                  a_size=env.action_space_size, h_size=hidden_units)\n",
    "\n",
    "# Start an interactive TensorFlow session.\n",
    "sess = tf.InteractiveSession()\n",
    "init = tf.global_variables_initializer()\n",
    "sess.run(init)\n",
    "summary_writer = tf.summary.FileWriter(summary_path)\n",
    "saver = tf.train.Saver()\n",
    "\n",
    "# Optionally load the model.\n",
    "if load_model == True:\n",
    "    print('Loading Model...')\n",
    "    ckpt = tf.train.get_checkpoint_state(model_path)\n",
    "    saver.restore(sess,ckpt.model_checkpoint_path)\n",
    "\n",
    "# Create variables which will be used throughout training.\n",
    "total_reward = []\n",
    "total_length = []\n",
    "total_entropy = []\n",
    "v_losses = []\n",
    "p_losses = []\n",
    "\n",
    "# Create buffer for storing gradients.\n",
    "gradBuffer = sess.run(tf.trainable_variables())\n",
    "for ix,grad in enumerate(gradBuffer):\n",
    "    gradBuffer[ix] = grad * 0\n",
    "\n",
    "# Start training loop\n",
    "for i in range(total_episodes):\n",
    "    brain = env.reset()[default_brain]\n",
    "    state = brain.vector_observations[0]\n",
    "    running_reward = 0\n",
    "    episode_steps = 0\n",
    "    ep_history = []\n",
    "    episode_entropy = []\n",
    "    done = False\n",
    "    while not done:\n",
    "        episode_steps += 1\n",
    "        # Probabilistically pick an action given our network outputs.\n",
    "        action = sess.run([myAgent.sampled_action, myAgent.entropy], \n",
    "                          feed_dict={myAgent.state_in:[state], myAgent.batch_size: 1})\n",
    "        \n",
    "        # Take action in environment.\n",
    "        brain_info = env.step(action)[default_brain]\n",
    "        \n",
    "        # Collect resulting reward and new observation.\n",
    "        state_1 = brain_info.vector_observations[0]\n",
    "        reward = brain_info.rewards[0]\n",
    "        done = brain_info.local_done[0]\n",
    "        ep_history.append([state, action, reward, state_1])\n",
    "        episode_entropy.append(entropy)\n",
    "        running_reward += reward\n",
    "        \n",
    "        if done and train_model:\n",
    "            # Update the network.\n",
    "            ep_history = np.array(ep_history)\n",
    "            ep_history[:,2] = discount_rewards(ep_history[:,2], y)\n",
    "            feed_dict={myAgent.reward_holder:ep_history[:,2],\n",
    "                    myAgent.action_holder:ep_history[:,1],\n",
    "                    myAgent.state_in:np.vstack(ep_history[:,0]),\n",
    "                    myAgent.batch_size: len(ep_history)}\n",
    "            v_loss, p_loss, grads = sess.run([myAgent.value_loss, \n",
    "                                              myAgent.policy_loss, \n",
    "                                              myAgent.gradients], \n",
    "                                             feed_dict=feed_dict)\n",
    "            v_losses.append(v_loss)\n",
    "            p_losses.append(p_loss)\n",
    "            for idx,grad in enumerate(grads):\n",
    "                gradBuffer[idx] += grad\n",
    "\n",
    "            # Apply gradients for past 'n' episodes.\n",
    "            if i % update_frequency == 0 and i != 0:\n",
    "                feed_dict = dictionary = dict(zip(myAgent.gradient_holders, gradBuffer))\n",
    "                _ = sess.run(myAgent.update_batch, feed_dict=feed_dict)\n",
    "                for ix,grad in enumerate(gradBuffer):\n",
    "                    gradBuffer[ix] = grad * 0\n",
    "\n",
    "        total_reward.append(running_reward)\n",
    "        total_length.append(episode_steps)\n",
    "        total_entropy.append(np.mean(episode_entropy))\n",
    "\n",
    "    # Update our running tally of scores and save information to Tensorboard.\n",
    "    if i % summary_freq == 0 and i != 0:\n",
    "        summary = tf.Summary()\n",
    "        summary.value.add(tag='Info/Reward', simple_value=float(np.mean(total_reward[-summary_freq:])))\n",
    "        summary.value.add(tag='Info/Value Loss', simple_value=float(np.mean(v_losses[-summary_freq:])))\n",
    "        summary.value.add(tag='Info/Policy Loss', simple_value=float(np.mean(p_losses[-summary_freq:])))\n",
    "        summary_writer.add_summary(summary, i)\n",
    "        summary_writer.flush()\n",
    "        print(\"Step: {}, Episode: {}, Mean Reward: {}\".format(str(total_steps), str(i),\n",
    "                                                              str(round(np.mean(total_reward[-summary_freq:]), 3))))        \n",
    "    # Save agent's model\n",
    "    if i % 1000 == 0 and i != 0:\n",
    "        saver.save(sess, model_path+'/model-'+str(i)+'.cptk')\n",
    "        print(\"Saved Model\")\n",
    "env.close()"
   ]
  },
  {
   "cell_type": "code",
   "execution_count": null,
   "metadata": {
    "collapsed": true
   },
   "outputs": [],
   "source": [
    "env.close()"
   ]
  }
 ],
 "metadata": {
  "anaconda-cloud": {},
  "kernelspec": {
   "display_name": "Python 3",
   "language": "python",
   "name": "python3"
  },
  "language_info": {
   "codemirror_mode": {
    "name": "ipython",
    "version": 3
   },
   "file_extension": ".py",
   "mimetype": "text/x-python",
   "name": "python",
   "nbconvert_exporter": "python",
   "pygments_lexer": "ipython3",
   "version": "3.6.2"
  }
 },
 "nbformat": 4,
 "nbformat_minor": 2
}
