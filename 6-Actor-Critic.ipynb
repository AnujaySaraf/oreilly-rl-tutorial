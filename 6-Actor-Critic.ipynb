{
 "cells": [
  {
   "cell_type": "markdown",
   "metadata": {},
   "source": [
    "# Exercise 7: Advantage Actor-Critic (A2C)"
   ]
  },
  {
   "cell_type": "code",
   "execution_count": null,
   "metadata": {
    "collapsed": true
   },
   "outputs": [],
   "source": [
    "import numpy as np\n",
    "import os\n",
    "import tensorflow as tf\n",
    "\n",
    "from unityagents import UnityEnvironment"
   ]
  },
  {
   "cell_type": "markdown",
   "metadata": {},
   "source": [
    "### Hyperparameters"
   ]
  },
  {
   "cell_type": "code",
   "execution_count": null,
   "metadata": {
    "collapsed": true
   },
   "outputs": [],
   "source": [
    "y = 0.99 # Discount rate.\n",
    "total_episodes = 20000 # Set total number of episodes to train agent on.\n",
    "update_frequency = 20 # How many episodes before updating model.\n",
    "summary_freq = 100 # How often to display information about training\n",
    "learning_rate = 1e-3 # Agent learning rate.\n",
    "hidden_units = 32 # Number of units in hidden layer.\n",
    "model_path = \"./models/ac\" # The path to save our model to.\n",
    "summary_path = \"./summaries/ac\" # The path to save our model to.\n",
    "load_model = False # Whether to load a saved model.\n",
    "train_model = True # Whether to train the model."
   ]
  },
  {
   "cell_type": "markdown",
   "metadata": {},
   "source": [
    "### Load the environment"
   ]
  },
  {
   "cell_type": "code",
   "execution_count": null,
   "metadata": {},
   "outputs": [],
   "source": [
    "env = UnityEnvironment(\"./envs/2DBall\", worker_id=6)\n",
    "default_brain = env.brain_names[0]"
   ]
  },
  {
   "cell_type": "markdown",
   "metadata": {},
   "source": [
    "### Examine state space"
   ]
  },
  {
   "cell_type": "code",
   "execution_count": null,
   "metadata": {},
   "outputs": [],
   "source": [
    "brains = env.reset()\n",
    "agent_brain = brains[default_brain]\n",
    "print(agent_brain.vector_observations)"
   ]
  },
  {
   "cell_type": "markdown",
   "metadata": {},
   "source": [
    "State *(s)* is a vector whose values corresponds to the rotation of the platform and the position and velocity of the ball."
   ]
  },
  {
   "cell_type": "markdown",
   "metadata": {},
   "source": [
    "### The Actor Critic Agent"
   ]
  },
  {
   "cell_type": "code",
   "execution_count": null,
   "metadata": {
    "collapsed": true
   },
   "outputs": [],
   "source": [
    "class ACAgent():\n",
    "    def __init__(self, lr, s_size, a_size, h_size):\n",
    "        #These lines established the feed-forward part of the network. The agent takes a state and produces an action.\n",
    "        self.state_in= tf.placeholder(shape=[None, s_size],dtype=tf.float32)\n",
    "        hidden = tf.layers.dense(self.state_in, h_size, activation=tf.nn.elu)\n",
    "        self.policy = tf.layers.dense(hidden, a_size, activation=tf.nn.softmax)\n",
    "        self.sampled_action = tf.multinomial(self.policy, 1)\n",
    "        self.value = tf.layers.dense(hidden, 1, activation=None)\n",
    "\n",
    "        # The randomness in the action probabilities.\n",
    "        self.entropy = -tf.reduce_sum(self.policy * tf.log(self.policy + 1e-10), axis=1)\n",
    "\n",
    "        #The next six lines establish the training proceedure. We feed the reward and chosen action into the network\n",
    "        #to compute the loss, and use it to update the network.\n",
    "        self.reward_holder = tf.placeholder(shape=[None],dtype=tf.float32)\n",
    "        self.action_holder = tf.placeholder(shape=[None],dtype=tf.int32)\n",
    "        self.actions = tf.one_hot(self.action_holder, a_size)\n",
    "        \n",
    "        self.taken_action = tf.reduce_sum(self.policy * self.actions, axis=1)\n",
    "        \n",
    "        advantage = self.reward_holder - tf.stop_gradient(tf.reduce_sum(self.value, axis=1))\n",
    "        mean_adv, var_adv = tf.nn.moments(advantage, axes=0)\n",
    "        normalized_advantage = (advantage - mean_adv) / (tf.sqrt(var_adv) + 1e-10)\n",
    "        \n",
    "        self.policy_loss = -tf.reduce_mean(tf.log(self.taken_action + 1e-10) * normalized_advantage)\n",
    "        self.value_loss = tf.reduce_mean(tf.squared_difference(self.reward_holder,tf.reduce_sum(self.value,axis=1)))\n",
    "        self.loss = self.policy_loss + 0.5 * self.value_loss - 0.01 * tf.reduce_mean(self.entropy)\n",
    "        \n",
    "        # Here we apply the gradients to update the network. \n",
    "        optimizer = tf.train.AdamOptimizer(learning_rate=lr)\n",
    "        self.update_model = optimizer.minimize(self.loss)"
   ]
  },
  {
   "cell_type": "markdown",
   "metadata": {},
   "source": [
    "### Training the Agent"
   ]
  },
  {
   "cell_type": "code",
   "execution_count": null,
   "metadata": {
    "collapsed": true
   },
   "outputs": [],
   "source": [
    "# Function to take list of rewards and discount factor\n",
    "# and produce discounted sum of future rewards.\n",
    "def discount_rewards(r, gamma):\n",
    "    discounted_r = np.zeros_like(r)\n",
    "    running_add = 0\n",
    "    for t in reversed(range(0, r.size)):\n",
    "        running_add = running_add * gamma + r[t]\n",
    "        discounted_r[t] = running_add\n",
    "    return discounted_r"
   ]
  },
  {
   "cell_type": "code",
   "execution_count": null,
   "metadata": {
    "scrolled": true
   },
   "outputs": [],
   "source": [
    "if not os.path.exists(model_path):\n",
    "    os.makedirs(model_path)\n",
    "    \n",
    "if not os.path.exists(summary_path):\n",
    "    os.makedirs(summary_path)\n",
    "\n",
    "#Load the agent.\n",
    "tf.reset_default_graph() \n",
    "state_size = env.brains[default_brain].vector_observation_space_size * env.brains[default_brain].num_stacked_vector_observations\n",
    "action_size = env.brains[default_brain].vector_action_space_size\n",
    "myAgent = ACAgent(lr=learning_rate, s_size=state_size, \n",
    "                  a_size=action_size, h_size=hidden_units)\n",
    "\n",
    "# Start an interactive TensorFlow session.\n",
    "sess = tf.InteractiveSession()\n",
    "init = tf.global_variables_initializer()\n",
    "sess.run(init)\n",
    "summary_writer = tf.summary.FileWriter(summary_path)\n",
    "saver = tf.train.Saver()\n",
    "\n",
    "# Optionally load the model.\n",
    "if load_model == True:\n",
    "    print('Loading Model...')\n",
    "    ckpt = tf.train.get_checkpoint_state(model_path)\n",
    "    saver.restore(sess,ckpt.model_checkpoint_path)\n",
    "\n",
    "# Create variables which will be used throughout training.\n",
    "total_steps = 0\n",
    "global_buffer = np.zeros([0, 5])\n",
    "total_reward = []\n",
    "total_length = []\n",
    "total_entropy = []\n",
    "v_losses = []\n",
    "p_losses = []\n",
    "\n",
    "# Start training loop\n",
    "brain_info = env.reset()[default_brain]\n",
    "state = brain_info.vector_observations[0]\n",
    "\n",
    "for i in range(total_episodes):\n",
    "    running_reward = 0\n",
    "    episode_steps = 0\n",
    "    ep_history = []\n",
    "    done = False\n",
    "    while not done:\n",
    "        episode_steps += 1\n",
    "        total_steps += 1\n",
    "        # Probabilistically pick an action given our network outputs.\n",
    "        action, entropy, value = sess.run([myAgent.sampled_action, myAgent.entropy], \n",
    "                          feed_dict={myAgent.state_in:[state]})\n",
    "        \n",
    "        # Take action in environment.\n",
    "        brain_info = env.step(action)[default_brain]\n",
    "        \n",
    "        # Collect resulting reward and new observation.\n",
    "        state_1 = brain_info.vector_observations[0]\n",
    "        reward = brain_info.rewards[0]\n",
    "        done = brain_info.local_done[0]\n",
    "        ep_history.append([state, action, reward, value, entropy])\n",
    "        running_reward += reward\n",
    "        state = state_1\n",
    "        \n",
    "        if done and train_model:\n",
    "            # Add experience trajectory to global buffer.\n",
    "            ep_history = np.array(ep_history)\n",
    "            ep_history[:,2] = discount_rewards(ep_history[:,2], y)\n",
    "            global_buffer = np.concatenate([global_buffer, ep_history])\n",
    "            \n",
    "            if i % update_frequency == 0 and i != 0:\n",
    "                # Update the network using global buffer.\n",
    "                feed_dict={myAgent.reward_holder:global_buffer[:,2],\n",
    "                        myAgent.action_holder:global_buffer[:,1],\n",
    "                        myAgent.state_in:np.vstack(global_buffer[:,0])}\n",
    "                v_loss, p_loss, _ = sess.run([myAgent.value_loss, \n",
    "                                                  myAgent.policy_loss, \n",
    "                                                  myAgent.update_model], \n",
    "                                                 feed_dict=feed_dict)\n",
    "                v_losses.append(v_loss)\n",
    "                p_losses.append(p_loss)\n",
    "                global_buffer = np.zeros([0, 5])\n",
    "\n",
    "    total_reward.append(running_reward)\n",
    "    total_length.append(episode_steps)\n",
    "    total_entropy.append(np.mean(ep_history[:, 4]))\n",
    "    total_value.append(np.mean(ep_history[:, 3]))\n",
    "\n",
    "    # Update our running tally of scores and save information to Tensorboard.\n",
    "    if i % summary_freq == 0 and i != 0:\n",
    "        summary = tf.Summary()\n",
    "        summary.value.add(tag='Info/Mean Reward', simple_value=float(np.mean(total_reward[-summary_freq:])))\n",
    "        summary.value.add(tag='Info/Value Estimate', simple_value=float(np.mean(total_value[-summary_freq:])))\n",
    "        summary.value.add(tag='Info/Episode Length', simple_value=float(np.mean(total_length[-summary_freq:])))\n",
    "        summary.value.add(tag='Info/Entropy', simple_value=float(np.mean(total_entropy[-summary_freq:])))\n",
    "        summary.value.add(tag='Info/Value Loss', simple_value=float(np.mean(v_losses[-summary_freq:])))\n",
    "        summary.value.add(tag='Info/Policy Loss', simple_value=float(np.mean(p_losses[-summary_freq:])))\n",
    "        summary_writer.add_summary(summary, i)\n",
    "        summary_writer.flush()\n",
    "        print(\"Step: {}, Episode: {}, Mean Reward: {}\".format(str(total_steps), str(i),\n",
    "                                                              str(round(np.mean(total_reward[-summary_freq:]), 3))))        \n",
    "    # Save agent's model\n",
    "    if i % 1000 == 0 and i != 0:\n",
    "        saver.save(sess, model_path+'/model-'+str(i)+'.cptk')\n",
    "        print(\"Saved Model\")\n",
    "env.close()"
   ]
  },
  {
   "cell_type": "code",
   "execution_count": null,
   "metadata": {
    "collapsed": true
   },
   "outputs": [],
   "source": [
    "env.close()"
   ]
  }
 ],
 "metadata": {
  "anaconda-cloud": {},
  "kernelspec": {
   "display_name": "Python 3",
   "language": "python",
   "name": "python3"
  },
  "language_info": {
   "codemirror_mode": {
    "name": "ipython",
    "version": 3
   },
   "file_extension": ".py",
   "mimetype": "text/x-python",
   "name": "python",
   "nbconvert_exporter": "python",
   "pygments_lexer": "ipython3",
   "version": "3.6.2"
  }
 },
 "nbformat": 4,
 "nbformat_minor": 2
}
